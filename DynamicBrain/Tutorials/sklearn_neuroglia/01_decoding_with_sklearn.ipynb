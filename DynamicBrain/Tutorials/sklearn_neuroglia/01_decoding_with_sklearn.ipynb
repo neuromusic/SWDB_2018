{
 "cells": [
  {
   "cell_type": "code",
   "execution_count": 1,
   "metadata": {},
   "outputs": [],
   "source": [
    "## requirements\n",
    "# allensdk\n",
    "# scikit-learn > 0.19"
   ]
  },
  {
   "cell_type": "code",
   "execution_count": 2,
   "metadata": {},
   "outputs": [],
   "source": [
    "from __future__ import print_function\n",
    "from allensdk.core.brain_observatory_cache import BrainObservatoryCache"
   ]
  },
  {
   "cell_type": "code",
   "execution_count": 3,
   "metadata": {},
   "outputs": [],
   "source": [
    "boc = BrainObservatoryCache()"
   ]
  },
  {
   "cell_type": "code",
   "execution_count": 4,
   "metadata": {},
   "outputs": [
    {
     "name": "stderr",
     "output_type": "stream",
     "text": [
      "2018-07-26 16:42:25,864 allensdk.api.api.retrieve_file_over_http INFO     Downloading URL: http://api.brain-map.org/api/v2/well_known_file_download/541457182\n"
     ]
    }
   ],
   "source": [
    "experiment_id = 541206592\n",
    "\n",
    "# Initializations:\n",
    "dataset = boc.get_ophys_experiment_data(experiment_id)\n"
   ]
  },
  {
   "cell_type": "code",
   "execution_count": 5,
   "metadata": {},
   "outputs": [],
   "source": [
    "import pandas as pd\n",
    "import numpy as np\n",
    "\n",
    "from allensdk.brain_observatory.natural_scenes import NaturalScenes\n",
    "ns = NaturalScenes(dataset)"
   ]
  },
  {
   "cell_type": "code",
   "execution_count": 6,
   "metadata": {},
   "outputs": [
    {
     "data": {
      "text/html": [
       "<div>\n",
       "<style scoped>\n",
       "    .dataframe tbody tr th:only-of-type {\n",
       "        vertical-align: middle;\n",
       "    }\n",
       "\n",
       "    .dataframe tbody tr th {\n",
       "        vertical-align: top;\n",
       "    }\n",
       "\n",
       "    .dataframe thead th {\n",
       "        text-align: right;\n",
       "    }\n",
       "</style>\n",
       "<table border=\"1\" class=\"dataframe\">\n",
       "  <thead>\n",
       "    <tr style=\"text-align: right;\">\n",
       "      <th></th>\n",
       "      <th>frame</th>\n",
       "      <th>start</th>\n",
       "      <th>end</th>\n",
       "    </tr>\n",
       "  </thead>\n",
       "  <tbody>\n",
       "    <tr>\n",
       "      <th>0</th>\n",
       "      <td>92</td>\n",
       "      <td>16125</td>\n",
       "      <td>16132</td>\n",
       "    </tr>\n",
       "    <tr>\n",
       "      <th>1</th>\n",
       "      <td>27</td>\n",
       "      <td>16133</td>\n",
       "      <td>16140</td>\n",
       "    </tr>\n",
       "    <tr>\n",
       "      <th>2</th>\n",
       "      <td>52</td>\n",
       "      <td>16140</td>\n",
       "      <td>16147</td>\n",
       "    </tr>\n",
       "    <tr>\n",
       "      <th>3</th>\n",
       "      <td>37</td>\n",
       "      <td>16148</td>\n",
       "      <td>16155</td>\n",
       "    </tr>\n",
       "    <tr>\n",
       "      <th>4</th>\n",
       "      <td>103</td>\n",
       "      <td>16155</td>\n",
       "      <td>16162</td>\n",
       "    </tr>\n",
       "  </tbody>\n",
       "</table>\n",
       "</div>"
      ],
      "text/plain": [
       "   frame  start    end\n",
       "0     92  16125  16132\n",
       "1     27  16133  16140\n",
       "2     52  16140  16147\n",
       "3     37  16148  16155\n",
       "4    103  16155  16162"
      ]
     },
     "execution_count": 6,
     "metadata": {},
     "output_type": "execute_result"
    }
   ],
   "source": [
    "images = ns.stim_table.copy()\n",
    "images.head()"
   ]
  },
  {
   "cell_type": "code",
   "execution_count": 7,
   "metadata": {},
   "outputs": [
    {
     "data": {
      "text/html": [
       "<div>\n",
       "<style scoped>\n",
       "    .dataframe tbody tr th:only-of-type {\n",
       "        vertical-align: middle;\n",
       "    }\n",
       "\n",
       "    .dataframe tbody tr th {\n",
       "        vertical-align: top;\n",
       "    }\n",
       "\n",
       "    .dataframe thead th {\n",
       "        text-align: right;\n",
       "    }\n",
       "</style>\n",
       "<table border=\"1\" class=\"dataframe\">\n",
       "  <thead>\n",
       "    <tr style=\"text-align: right;\">\n",
       "      <th></th>\n",
       "      <th>0</th>\n",
       "      <th>1</th>\n",
       "      <th>2</th>\n",
       "      <th>3</th>\n",
       "      <th>4</th>\n",
       "      <th>5</th>\n",
       "      <th>6</th>\n",
       "      <th>7</th>\n",
       "      <th>8</th>\n",
       "      <th>9</th>\n",
       "      <th>...</th>\n",
       "      <th>145</th>\n",
       "      <th>146</th>\n",
       "      <th>147</th>\n",
       "      <th>148</th>\n",
       "      <th>149</th>\n",
       "      <th>150</th>\n",
       "      <th>151</th>\n",
       "      <th>152</th>\n",
       "      <th>153</th>\n",
       "      <th>dx</th>\n",
       "    </tr>\n",
       "  </thead>\n",
       "  <tbody>\n",
       "    <tr>\n",
       "      <th>0</th>\n",
       "      <td>2.750398</td>\n",
       "      <td>3.113332</td>\n",
       "      <td>3.283231</td>\n",
       "      <td>1.035660</td>\n",
       "      <td>2.312769</td>\n",
       "      <td>1.005320</td>\n",
       "      <td>1.795959</td>\n",
       "      <td>1.302906</td>\n",
       "      <td>1.109441</td>\n",
       "      <td>2.644591</td>\n",
       "      <td>...</td>\n",
       "      <td>1.204343</td>\n",
       "      <td>3.223873</td>\n",
       "      <td>-0.614828</td>\n",
       "      <td>1.594057</td>\n",
       "      <td>2.538169</td>\n",
       "      <td>9.322724</td>\n",
       "      <td>3.246232</td>\n",
       "      <td>17.838305</td>\n",
       "      <td>44.883263</td>\n",
       "      <td>-0.016407</td>\n",
       "    </tr>\n",
       "    <tr>\n",
       "      <th>1</th>\n",
       "      <td>5.472741</td>\n",
       "      <td>4.520462</td>\n",
       "      <td>1.848134</td>\n",
       "      <td>1.509070</td>\n",
       "      <td>3.900594</td>\n",
       "      <td>2.375818</td>\n",
       "      <td>0.627758</td>\n",
       "      <td>0.452645</td>\n",
       "      <td>-1.946570</td>\n",
       "      <td>-0.088816</td>\n",
       "      <td>...</td>\n",
       "      <td>3.157544</td>\n",
       "      <td>2.147983</td>\n",
       "      <td>3.462305</td>\n",
       "      <td>1.155841</td>\n",
       "      <td>3.599893</td>\n",
       "      <td>10.790494</td>\n",
       "      <td>3.700325</td>\n",
       "      <td>41.864319</td>\n",
       "      <td>55.052734</td>\n",
       "      <td>0.012626</td>\n",
       "    </tr>\n",
       "    <tr>\n",
       "      <th>2</th>\n",
       "      <td>4.938696</td>\n",
       "      <td>1.872071</td>\n",
       "      <td>0.822514</td>\n",
       "      <td>-0.366550</td>\n",
       "      <td>0.590227</td>\n",
       "      <td>0.577107</td>\n",
       "      <td>-0.431362</td>\n",
       "      <td>3.239566</td>\n",
       "      <td>-2.953792</td>\n",
       "      <td>0.519713</td>\n",
       "      <td>...</td>\n",
       "      <td>2.204452</td>\n",
       "      <td>0.433436</td>\n",
       "      <td>1.692538</td>\n",
       "      <td>4.946897</td>\n",
       "      <td>-2.181524</td>\n",
       "      <td>1.229501</td>\n",
       "      <td>1.446858</td>\n",
       "      <td>19.081219</td>\n",
       "      <td>-0.731454</td>\n",
       "      <td>0.023797</td>\n",
       "    </tr>\n",
       "    <tr>\n",
       "      <th>3</th>\n",
       "      <td>0.686303</td>\n",
       "      <td>-1.502568</td>\n",
       "      <td>-2.128904</td>\n",
       "      <td>-0.779033</td>\n",
       "      <td>-3.098761</td>\n",
       "      <td>0.632175</td>\n",
       "      <td>2.272473</td>\n",
       "      <td>4.147108</td>\n",
       "      <td>-4.235024</td>\n",
       "      <td>-0.116484</td>\n",
       "      <td>...</td>\n",
       "      <td>1.661621</td>\n",
       "      <td>-1.256703</td>\n",
       "      <td>0.234285</td>\n",
       "      <td>5.248888</td>\n",
       "      <td>-1.481765</td>\n",
       "      <td>-3.012385</td>\n",
       "      <td>0.283391</td>\n",
       "      <td>-6.771274</td>\n",
       "      <td>-18.988461</td>\n",
       "      <td>0.003431</td>\n",
       "    </tr>\n",
       "    <tr>\n",
       "      <th>4</th>\n",
       "      <td>-2.763241</td>\n",
       "      <td>-2.317277</td>\n",
       "      <td>-1.518564</td>\n",
       "      <td>-1.131271</td>\n",
       "      <td>-3.716857</td>\n",
       "      <td>0.189942</td>\n",
       "      <td>1.049816</td>\n",
       "      <td>0.004382</td>\n",
       "      <td>-3.942320</td>\n",
       "      <td>-2.070535</td>\n",
       "      <td>...</td>\n",
       "      <td>0.768980</td>\n",
       "      <td>0.713630</td>\n",
       "      <td>4.319497</td>\n",
       "      <td>1.107409</td>\n",
       "      <td>0.044746</td>\n",
       "      <td>-4.763652</td>\n",
       "      <td>-0.807627</td>\n",
       "      <td>-15.687251</td>\n",
       "      <td>-24.453199</td>\n",
       "      <td>0.022718</td>\n",
       "    </tr>\n",
       "  </tbody>\n",
       "</table>\n",
       "<p>5 rows × 155 columns</p>\n",
       "</div>"
      ],
      "text/plain": [
       "          0         1         2         3         4         5         6  \\\n",
       "0  2.750398  3.113332  3.283231  1.035660  2.312769  1.005320  1.795959   \n",
       "1  5.472741  4.520462  1.848134  1.509070  3.900594  2.375818  0.627758   \n",
       "2  4.938696  1.872071  0.822514 -0.366550  0.590227  0.577107 -0.431362   \n",
       "3  0.686303 -1.502568 -2.128904 -0.779033 -3.098761  0.632175  2.272473   \n",
       "4 -2.763241 -2.317277 -1.518564 -1.131271 -3.716857  0.189942  1.049816   \n",
       "\n",
       "          7         8         9    ...          145       146       147  \\\n",
       "0  1.302906  1.109441  2.644591    ...     1.204343  3.223873 -0.614828   \n",
       "1  0.452645 -1.946570 -0.088816    ...     3.157544  2.147983  3.462305   \n",
       "2  3.239566 -2.953792  0.519713    ...     2.204452  0.433436  1.692538   \n",
       "3  4.147108 -4.235024 -0.116484    ...     1.661621 -1.256703  0.234285   \n",
       "4  0.004382 -3.942320 -2.070535    ...     0.768980  0.713630  4.319497   \n",
       "\n",
       "        148       149        150       151        152        153        dx  \n",
       "0  1.594057  2.538169   9.322724  3.246232  17.838305  44.883263 -0.016407  \n",
       "1  1.155841  3.599893  10.790494  3.700325  41.864319  55.052734  0.012626  \n",
       "2  4.946897 -2.181524   1.229501  1.446858  19.081219  -0.731454  0.023797  \n",
       "3  5.248888 -1.481765  -3.012385  0.283391  -6.771274 -18.988461  0.003431  \n",
       "4  1.107409  0.044746  -4.763652 -0.807627 -15.687251 -24.453199  0.022718  \n",
       "\n",
       "[5 rows x 155 columns]"
      ]
     },
     "execution_count": 7,
     "metadata": {},
     "output_type": "execute_result"
    }
   ],
   "source": [
    "mean_sweep_response = ns.mean_sweep_response.copy()\n",
    "mean_sweep_response.head()"
   ]
  },
  {
   "cell_type": "code",
   "execution_count": 8,
   "metadata": {},
   "outputs": [
    {
     "data": {
      "text/html": [
       "<div>\n",
       "<style scoped>\n",
       "    .dataframe tbody tr th:only-of-type {\n",
       "        vertical-align: middle;\n",
       "    }\n",
       "\n",
       "    .dataframe tbody tr th {\n",
       "        vertical-align: top;\n",
       "    }\n",
       "\n",
       "    .dataframe thead th {\n",
       "        text-align: right;\n",
       "    }\n",
       "</style>\n",
       "<table border=\"1\" class=\"dataframe\">\n",
       "  <thead>\n",
       "    <tr style=\"text-align: right;\">\n",
       "      <th>neuron</th>\n",
       "      <th>541510267</th>\n",
       "      <th>541510270</th>\n",
       "      <th>541510307</th>\n",
       "      <th>541510405</th>\n",
       "      <th>588381938</th>\n",
       "      <th>541510410</th>\n",
       "      <th>541511183</th>\n",
       "      <th>541510394</th>\n",
       "      <th>588381886</th>\n",
       "      <th>541511196</th>\n",
       "      <th>...</th>\n",
       "      <th>588381999</th>\n",
       "      <th>541510679</th>\n",
       "      <th>541509977</th>\n",
       "      <th>541510142</th>\n",
       "      <th>541509981</th>\n",
       "      <th>541509952</th>\n",
       "      <th>541510950</th>\n",
       "      <th>541511172</th>\n",
       "      <th>541509957</th>\n",
       "      <th>541511118</th>\n",
       "    </tr>\n",
       "  </thead>\n",
       "  <tbody>\n",
       "    <tr>\n",
       "      <th>0</th>\n",
       "      <td>2.750398</td>\n",
       "      <td>3.113332</td>\n",
       "      <td>3.283231</td>\n",
       "      <td>1.035660</td>\n",
       "      <td>2.312769</td>\n",
       "      <td>1.005320</td>\n",
       "      <td>1.795959</td>\n",
       "      <td>1.302906</td>\n",
       "      <td>1.109441</td>\n",
       "      <td>2.644591</td>\n",
       "      <td>...</td>\n",
       "      <td>3.245388</td>\n",
       "      <td>1.204343</td>\n",
       "      <td>3.223873</td>\n",
       "      <td>-0.614828</td>\n",
       "      <td>1.594057</td>\n",
       "      <td>2.538169</td>\n",
       "      <td>9.322724</td>\n",
       "      <td>3.246232</td>\n",
       "      <td>17.838305</td>\n",
       "      <td>44.883263</td>\n",
       "    </tr>\n",
       "    <tr>\n",
       "      <th>1</th>\n",
       "      <td>5.472741</td>\n",
       "      <td>4.520462</td>\n",
       "      <td>1.848134</td>\n",
       "      <td>1.509070</td>\n",
       "      <td>3.900594</td>\n",
       "      <td>2.375818</td>\n",
       "      <td>0.627758</td>\n",
       "      <td>0.452645</td>\n",
       "      <td>-1.946570</td>\n",
       "      <td>-0.088816</td>\n",
       "      <td>...</td>\n",
       "      <td>5.051270</td>\n",
       "      <td>3.157544</td>\n",
       "      <td>2.147983</td>\n",
       "      <td>3.462305</td>\n",
       "      <td>1.155841</td>\n",
       "      <td>3.599893</td>\n",
       "      <td>10.790494</td>\n",
       "      <td>3.700325</td>\n",
       "      <td>41.864319</td>\n",
       "      <td>55.052734</td>\n",
       "    </tr>\n",
       "    <tr>\n",
       "      <th>2</th>\n",
       "      <td>4.938696</td>\n",
       "      <td>1.872071</td>\n",
       "      <td>0.822514</td>\n",
       "      <td>-0.366550</td>\n",
       "      <td>0.590227</td>\n",
       "      <td>0.577107</td>\n",
       "      <td>-0.431362</td>\n",
       "      <td>3.239566</td>\n",
       "      <td>-2.953792</td>\n",
       "      <td>0.519713</td>\n",
       "      <td>...</td>\n",
       "      <td>0.117338</td>\n",
       "      <td>2.204452</td>\n",
       "      <td>0.433436</td>\n",
       "      <td>1.692538</td>\n",
       "      <td>4.946897</td>\n",
       "      <td>-2.181524</td>\n",
       "      <td>1.229501</td>\n",
       "      <td>1.446858</td>\n",
       "      <td>19.081219</td>\n",
       "      <td>-0.731454</td>\n",
       "    </tr>\n",
       "    <tr>\n",
       "      <th>3</th>\n",
       "      <td>0.686303</td>\n",
       "      <td>-1.502568</td>\n",
       "      <td>-2.128904</td>\n",
       "      <td>-0.779033</td>\n",
       "      <td>-3.098761</td>\n",
       "      <td>0.632175</td>\n",
       "      <td>2.272473</td>\n",
       "      <td>4.147108</td>\n",
       "      <td>-4.235024</td>\n",
       "      <td>-0.116484</td>\n",
       "      <td>...</td>\n",
       "      <td>-3.436971</td>\n",
       "      <td>1.661621</td>\n",
       "      <td>-1.256703</td>\n",
       "      <td>0.234285</td>\n",
       "      <td>5.248888</td>\n",
       "      <td>-1.481765</td>\n",
       "      <td>-3.012385</td>\n",
       "      <td>0.283391</td>\n",
       "      <td>-6.771274</td>\n",
       "      <td>-18.988461</td>\n",
       "    </tr>\n",
       "    <tr>\n",
       "      <th>4</th>\n",
       "      <td>-2.763241</td>\n",
       "      <td>-2.317277</td>\n",
       "      <td>-1.518564</td>\n",
       "      <td>-1.131271</td>\n",
       "      <td>-3.716857</td>\n",
       "      <td>0.189942</td>\n",
       "      <td>1.049816</td>\n",
       "      <td>0.004382</td>\n",
       "      <td>-3.942320</td>\n",
       "      <td>-2.070535</td>\n",
       "      <td>...</td>\n",
       "      <td>-3.320092</td>\n",
       "      <td>0.768980</td>\n",
       "      <td>0.713630</td>\n",
       "      <td>4.319497</td>\n",
       "      <td>1.107409</td>\n",
       "      <td>0.044746</td>\n",
       "      <td>-4.763652</td>\n",
       "      <td>-0.807627</td>\n",
       "      <td>-15.687251</td>\n",
       "      <td>-24.453199</td>\n",
       "    </tr>\n",
       "  </tbody>\n",
       "</table>\n",
       "<p>5 rows × 154 columns</p>\n",
       "</div>"
      ],
      "text/plain": [
       "neuron  541510267  541510270  541510307  541510405  588381938  541510410  \\\n",
       "0        2.750398   3.113332   3.283231   1.035660   2.312769   1.005320   \n",
       "1        5.472741   4.520462   1.848134   1.509070   3.900594   2.375818   \n",
       "2        4.938696   1.872071   0.822514  -0.366550   0.590227   0.577107   \n",
       "3        0.686303  -1.502568  -2.128904  -0.779033  -3.098761   0.632175   \n",
       "4       -2.763241  -2.317277  -1.518564  -1.131271  -3.716857   0.189942   \n",
       "\n",
       "neuron  541511183  541510394  588381886  541511196    ...      588381999  \\\n",
       "0        1.795959   1.302906   1.109441   2.644591    ...       3.245388   \n",
       "1        0.627758   0.452645  -1.946570  -0.088816    ...       5.051270   \n",
       "2       -0.431362   3.239566  -2.953792   0.519713    ...       0.117338   \n",
       "3        2.272473   4.147108  -4.235024  -0.116484    ...      -3.436971   \n",
       "4        1.049816   0.004382  -3.942320  -2.070535    ...      -3.320092   \n",
       "\n",
       "neuron  541510679  541509977  541510142  541509981  541509952  541510950  \\\n",
       "0        1.204343   3.223873  -0.614828   1.594057   2.538169   9.322724   \n",
       "1        3.157544   2.147983   3.462305   1.155841   3.599893  10.790494   \n",
       "2        2.204452   0.433436   1.692538   4.946897  -2.181524   1.229501   \n",
       "3        1.661621  -1.256703   0.234285   5.248888  -1.481765  -3.012385   \n",
       "4        0.768980   0.713630   4.319497   1.107409   0.044746  -4.763652   \n",
       "\n",
       "neuron  541511172  541509957  541511118  \n",
       "0        3.246232  17.838305  44.883263  \n",
       "1        3.700325  41.864319  55.052734  \n",
       "2        1.446858  19.081219  -0.731454  \n",
       "3        0.283391  -6.771274 -18.988461  \n",
       "4       -0.807627 -15.687251 -24.453199  \n",
       "\n",
       "[5 rows x 154 columns]"
      ]
     },
     "execution_count": 8,
     "metadata": {},
     "output_type": "execute_result"
    }
   ],
   "source": [
    "# We don't want dx for this. goodbye!\n",
    "mean_sweep_response.drop('dx',axis=1,inplace=True)\n",
    "\n",
    "# And let's rename the columns\n",
    "neurons = pd.Series(\n",
    "    ns.cell_id,\n",
    "    name='neuron',\n",
    ")\n",
    "mean_sweep_response.columns = neurons\n",
    "mean_sweep_response.head()"
   ]
  },
  {
   "cell_type": "code",
   "execution_count": 14,
   "metadata": {},
   "outputs": [],
   "source": [
    "# get features and output\n",
    "X = mean_sweep_response\n",
    "y = images['frame']"
   ]
  },
  {
   "cell_type": "code",
   "execution_count": 15,
   "metadata": {},
   "outputs": [],
   "source": [
    "# split training & testing\n",
    "from sklearn.model_selection import train_test_split\n",
    "X_train, X_test, y_train, y_test = train_test_split(\n",
    "    X, y,\n",
    "    test_size=0.2, \n",
    "    stratify=y,\n",
    ")"
   ]
  },
  {
   "cell_type": "code",
   "execution_count": 23,
   "metadata": {},
   "outputs": [],
   "source": [
    "# do the classification\n",
    "from sklearn.linear_model import LogisticRegression\n",
    "classifier = LogisticRegression(\n",
    "    multi_class='ovr',\n",
    ")"
   ]
  },
  {
   "cell_type": "code",
   "execution_count": 24,
   "metadata": {},
   "outputs": [
    {
     "name": "stderr",
     "output_type": "stream",
     "text": [
      "C:\\Users\\justink\\AppData\\Local\\Continuum\\Anaconda2\\envs\\allensdk\\lib\\site-packages\\sklearn\\linear_model\\logistic.py:1228: UserWarning: 'n_jobs' > 1 does not have any effect when 'solver' is set to 'liblinear'. Got 'n_jobs' = -1.\n",
      "  \" = {}.\".format(self.n_jobs))\n"
     ]
    },
    {
     "data": {
      "text/plain": [
       "LogisticRegression(C=1.0, class_weight=None, dual=False, fit_intercept=True,\n",
       "          intercept_scaling=1, max_iter=100, multi_class='ovr', n_jobs=-1,\n",
       "          penalty='l2', random_state=None, solver='liblinear', tol=0.0001,\n",
       "          verbose=0, warm_start=False)"
      ]
     },
     "execution_count": 24,
     "metadata": {},
     "output_type": "execute_result"
    }
   ],
   "source": [
    "classifier.fit(X_train,y_train)"
   ]
  },
  {
   "cell_type": "code",
   "execution_count": 27,
   "metadata": {},
   "outputs": [
    {
     "data": {
      "text/plain": [
       "11.2"
      ]
     },
     "execution_count": 27,
     "metadata": {},
     "output_type": "execute_result"
    }
   ],
   "source": [
    "classifier.score(X_test,y_test) * len(np.unique(y))"
   ]
  },
  {
   "cell_type": "code",
   "execution_count": 28,
   "metadata": {},
   "outputs": [],
   "source": [
    "from sklearn.decomposition import PCA\n",
    "reducer = PCA(n_components=2)"
   ]
  },
  {
   "cell_type": "code",
   "execution_count": 30,
   "metadata": {},
   "outputs": [
    {
     "name": "stdout",
     "output_type": "stream",
     "text": [
      "(4760, 154) (4760L, 2L)\n"
     ]
    }
   ],
   "source": [
    "X_train_reduced = reducer.fit_transform(X_train)\n",
    "print(X_train.shape, X_train_reduced.shape)"
   ]
  },
  {
   "cell_type": "code",
   "execution_count": 32,
   "metadata": {},
   "outputs": [
    {
     "name": "stdout",
     "output_type": "stream",
     "text": [
      "(1190, 154) (1190L, 2L)\n"
     ]
    }
   ],
   "source": [
    "X_test_reduced = reducer.transform(X_test)\n",
    "print(X_test.shape, X_test_reduced.shape)"
   ]
  },
  {
   "cell_type": "code",
   "execution_count": 33,
   "metadata": {},
   "outputs": [
    {
     "name": "stderr",
     "output_type": "stream",
     "text": [
      "C:\\Users\\justink\\AppData\\Local\\Continuum\\Anaconda2\\envs\\allensdk\\lib\\site-packages\\sklearn\\linear_model\\logistic.py:1228: UserWarning: 'n_jobs' > 1 does not have any effect when 'solver' is set to 'liblinear'. Got 'n_jobs' = -1.\n",
      "  \" = {}.\".format(self.n_jobs))\n"
     ]
    },
    {
     "data": {
      "text/plain": [
       "2.2"
      ]
     },
     "execution_count": 33,
     "metadata": {},
     "output_type": "execute_result"
    }
   ],
   "source": [
    "classifier.fit(X_train_reduced,y_train)\n",
    "classifier.score(X_test_reduced,y_test) * len(np.unique(y))"
   ]
  },
  {
   "cell_type": "code",
   "execution_count": 34,
   "metadata": {},
   "outputs": [],
   "source": [
    "from sklearn.pipeline import Pipeline"
   ]
  },
  {
   "cell_type": "code",
   "execution_count": 37,
   "metadata": {},
   "outputs": [],
   "source": [
    "pipeline = Pipeline((\n",
    "    ('reducer', PCA(n_components=2)),\n",
    "    ('classifier', LogisticRegression()),\n",
    "))"
   ]
  },
  {
   "cell_type": "code",
   "execution_count": 38,
   "metadata": {},
   "outputs": [
    {
     "data": {
      "text/plain": [
       "2.2"
      ]
     },
     "execution_count": 38,
     "metadata": {},
     "output_type": "execute_result"
    },
    {
     "name": "stderr",
     "output_type": "stream",
     "text": [
      "C:\\Users\\justink\\AppData\\Local\\Continuum\\Anaconda2\\envs\\allensdk\\lib\\site-packages\\sklearn\\linear_model\\sag.py:326: ConvergenceWarning: The max_iter was reached which means the coef_ did not converge\n",
      "  \"the coef_ did not converge\", ConvergenceWarning)\n",
      "C:\\Users\\justink\\AppData\\Local\\Continuum\\Anaconda2\\envs\\allensdk\\lib\\site-packages\\sklearn\\linear_model\\sag.py:326: ConvergenceWarning: The max_iter was reached which means the coef_ did not converge\n",
      "  \"the coef_ did not converge\", ConvergenceWarning)\n",
      "C:\\Users\\justink\\AppData\\Local\\Continuum\\Anaconda2\\envs\\allensdk\\lib\\site-packages\\sklearn\\linear_model\\sag.py:326: ConvergenceWarning: The max_iter was reached which means the coef_ did not converge\n",
      "  \"the coef_ did not converge\", ConvergenceWarning)\n",
      "C:\\Users\\justink\\AppData\\Local\\Continuum\\Anaconda2\\envs\\allensdk\\lib\\site-packages\\sklearn\\linear_model\\sag.py:326: ConvergenceWarning: The max_iter was reached which means the coef_ did not converge\n",
      "  \"the coef_ did not converge\", ConvergenceWarning)\n"
     ]
    }
   ],
   "source": [
    "pipeline.fit(X_train,y_train)\n",
    "pipeline.score(X_test,y_test) * len(np.unique(y))"
   ]
  },
  {
   "cell_type": "code",
   "execution_count": 46,
   "metadata": {},
   "outputs": [],
   "source": [
    "from sklearn.grid_search import GridSearchCV\n",
    "from sklearn.decomposition import NMF\n",
    "from sklearn.neighbors import KNeighborsClassifier\n",
    "\n",
    "pipeline = Pipeline((\n",
    "    ('reduce_dim', PCA()),\n",
    "    ('classify', LogisticRegression()),\n",
    "))\n",
    "\n",
    "N_FEATURES_OPTIONS = [4, 8, 16,]\n",
    "\n",
    "param_grid = [\n",
    "    {\n",
    "        'reduce_dim__n_components': N_FEATURES_OPTIONS,\n",
    "        'classify': [LogisticRegression(), KNeighborsClassifier()]\n",
    "    },\n",
    "]"
   ]
  },
  {
   "cell_type": "code",
   "execution_count": 47,
   "metadata": {},
   "outputs": [],
   "source": [
    "grid = GridSearchCV(pipeline, param_grid)"
   ]
  },
  {
   "cell_type": "code",
   "execution_count": 48,
   "metadata": {},
   "outputs": [
    {
     "data": {
      "text/plain": [
       "9.100000000000001"
      ]
     },
     "execution_count": 48,
     "metadata": {},
     "output_type": "execute_result"
    }
   ],
   "source": [
    "grid.fit(X_train, y_train)\n",
    "grid.score(X_test, y_test) * len(np.unique(y))"
   ]
  },
  {
   "cell_type": "code",
   "execution_count": 49,
   "metadata": {},
   "outputs": [
    {
     "data": {
      "text/plain": [
       "Pipeline(memory=None,\n",
       "     steps=[('reduce_dim', PCA(copy=True, iterated_power='auto', n_components=16, random_state=None,\n",
       "  svd_solver='auto', tol=0.0, whiten=False)), ('classify', LogisticRegression(C=1.0, class_weight=None, dual=False, fit_intercept=True,\n",
       "          intercept_scaling=1, max_iter=100, multi_class='ovr', n_jobs=1,\n",
       "          penalty='l2', random_state=None, solver='liblinear', tol=0.0001,\n",
       "          verbose=0, warm_start=False))])"
      ]
     },
     "execution_count": 49,
     "metadata": {},
     "output_type": "execute_result"
    }
   ],
   "source": [
    "grid.best_estimator_"
   ]
  },
  {
   "cell_type": "code",
   "execution_count": null,
   "metadata": {},
   "outputs": [],
   "source": []
  }
 ],
 "metadata": {
  "kernelspec": {
   "display_name": "Python [conda env:allensdk]",
   "language": "python",
   "name": "conda-env-allensdk-py"
  },
  "language_info": {
   "codemirror_mode": {
    "name": "ipython",
    "version": 2
   },
   "file_extension": ".py",
   "mimetype": "text/x-python",
   "name": "python",
   "nbconvert_exporter": "python",
   "pygments_lexer": "ipython2",
   "version": "2.7.15"
  }
 },
 "nbformat": 4,
 "nbformat_minor": 2
}
